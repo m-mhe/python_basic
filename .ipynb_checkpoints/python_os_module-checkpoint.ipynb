{
 "cells": [
  {
   "cell_type": "markdown",
   "id": "f981b02d-408a-4650-82ba-4ff02e6054b1",
   "metadata": {},
   "source": [
    "# To see all the oparetions that we can do:"
   ]
  },
  {
   "cell_type": "code",
   "execution_count": 1,
   "id": "14bb0596-ec18-40dc-b305-1ff2b7bfbeed",
   "metadata": {},
   "outputs": [
    {
     "data": {
      "text/plain": [
       "['DirEntry',\n",
       " 'EX_OK',\n",
       " 'F_OK',\n",
       " 'GenericAlias',\n",
       " 'Mapping',\n",
       " 'MutableMapping',\n",
       " 'O_APPEND',\n",
       " 'O_BINARY',\n",
       " 'O_CREAT',\n",
       " 'O_EXCL',\n",
       " 'O_NOINHERIT',\n",
       " 'O_RANDOM',\n",
       " 'O_RDONLY',\n",
       " 'O_RDWR',\n",
       " 'O_SEQUENTIAL',\n",
       " 'O_SHORT_LIVED',\n",
       " 'O_TEMPORARY',\n",
       " 'O_TEXT',\n",
       " 'O_TRUNC',\n",
       " 'O_WRONLY',\n",
       " 'P_DETACH',\n",
       " 'P_NOWAIT',\n",
       " 'P_NOWAITO',\n",
       " 'P_OVERLAY',\n",
       " 'P_WAIT',\n",
       " 'PathLike',\n",
       " 'R_OK',\n",
       " 'SEEK_CUR',\n",
       " 'SEEK_END',\n",
       " 'SEEK_SET',\n",
       " 'TMP_MAX',\n",
       " 'W_OK',\n",
       " 'X_OK',\n",
       " '_AddedDllDirectory',\n",
       " '_Environ',\n",
       " '__all__',\n",
       " '__builtins__',\n",
       " '__cached__',\n",
       " '__doc__',\n",
       " '__file__',\n",
       " '__loader__',\n",
       " '__name__',\n",
       " '__package__',\n",
       " '__spec__',\n",
       " '_check_methods',\n",
       " '_execvpe',\n",
       " '_exists',\n",
       " '_exit',\n",
       " '_fspath',\n",
       " '_get_exports_list',\n",
       " '_walk_symlinks_as_files',\n",
       " '_wrap_close',\n",
       " 'abc',\n",
       " 'abort',\n",
       " 'access',\n",
       " 'add_dll_directory',\n",
       " 'altsep',\n",
       " 'chdir',\n",
       " 'chmod',\n",
       " 'close',\n",
       " 'closerange',\n",
       " 'cpu_count',\n",
       " 'curdir',\n",
       " 'defpath',\n",
       " 'device_encoding',\n",
       " 'devnull',\n",
       " 'dup',\n",
       " 'dup2',\n",
       " 'environ',\n",
       " 'error',\n",
       " 'execl',\n",
       " 'execle',\n",
       " 'execlp',\n",
       " 'execlpe',\n",
       " 'execv',\n",
       " 'execve',\n",
       " 'execvp',\n",
       " 'execvpe',\n",
       " 'extsep',\n",
       " 'fchmod',\n",
       " 'fdopen',\n",
       " 'fsdecode',\n",
       " 'fsencode',\n",
       " 'fspath',\n",
       " 'fstat',\n",
       " 'fsync',\n",
       " 'ftruncate',\n",
       " 'get_blocking',\n",
       " 'get_exec_path',\n",
       " 'get_handle_inheritable',\n",
       " 'get_inheritable',\n",
       " 'get_terminal_size',\n",
       " 'getcwd',\n",
       " 'getcwdb',\n",
       " 'getenv',\n",
       " 'getlogin',\n",
       " 'getpid',\n",
       " 'getppid',\n",
       " 'isatty',\n",
       " 'kill',\n",
       " 'lchmod',\n",
       " 'linesep',\n",
       " 'link',\n",
       " 'listdir',\n",
       " 'listdrives',\n",
       " 'listmounts',\n",
       " 'listvolumes',\n",
       " 'lseek',\n",
       " 'lstat',\n",
       " 'makedirs',\n",
       " 'mkdir',\n",
       " 'name',\n",
       " 'open',\n",
       " 'pardir',\n",
       " 'path',\n",
       " 'pathsep',\n",
       " 'pipe',\n",
       " 'popen',\n",
       " 'process_cpu_count',\n",
       " 'putenv',\n",
       " 'read',\n",
       " 'readlink',\n",
       " 'remove',\n",
       " 'removedirs',\n",
       " 'rename',\n",
       " 'renames',\n",
       " 'replace',\n",
       " 'rmdir',\n",
       " 'scandir',\n",
       " 'sep',\n",
       " 'set_blocking',\n",
       " 'set_handle_inheritable',\n",
       " 'set_inheritable',\n",
       " 'spawnl',\n",
       " 'spawnle',\n",
       " 'spawnv',\n",
       " 'spawnve',\n",
       " 'st',\n",
       " 'startfile',\n",
       " 'stat',\n",
       " 'stat_result',\n",
       " 'statvfs_result',\n",
       " 'strerror',\n",
       " 'supports_bytes_environ',\n",
       " 'supports_dir_fd',\n",
       " 'supports_effective_ids',\n",
       " 'supports_fd',\n",
       " 'supports_follow_symlinks',\n",
       " 'symlink',\n",
       " 'sys',\n",
       " 'system',\n",
       " 'terminal_size',\n",
       " 'times',\n",
       " 'times_result',\n",
       " 'truncate',\n",
       " 'umask',\n",
       " 'uname_result',\n",
       " 'unlink',\n",
       " 'unsetenv',\n",
       " 'urandom',\n",
       " 'utime',\n",
       " 'waitpid',\n",
       " 'waitstatus_to_exitcode',\n",
       " 'walk',\n",
       " 'write']"
      ]
     },
     "execution_count": 1,
     "metadata": {},
     "output_type": "execute_result"
    }
   ],
   "source": [
    "import os\n",
    "\n",
    "dir(os)"
   ]
  },
  {
   "cell_type": "markdown",
   "id": "c953f387-1899-4d34-a82e-be8c53c129df",
   "metadata": {},
   "source": [
    "# To navigate"
   ]
  },
  {
   "cell_type": "code",
   "execution_count": 2,
   "id": "aa8b5a20-04d1-4c05-ba65-49544f85227b",
   "metadata": {},
   "outputs": [
    {
     "name": "stdout",
     "output_type": "stream",
     "text": [
      "C:\\Users\\lula6\\ml_code_base\\python_basic\n"
     ]
    }
   ],
   "source": [
    "print(os.getcwd()) # Current wirking directory"
   ]
  },
  {
   "cell_type": "code",
   "execution_count": 5,
   "id": "0f169336-eb41-4bc3-9c2d-479f832d64c9",
   "metadata": {},
   "outputs": [
    {
     "data": {
      "text/plain": [
       "'C:\\\\Users\\\\lula6'"
      ]
     },
     "execution_count": 5,
     "metadata": {},
     "output_type": "execute_result"
    }
   ],
   "source": [
    "os.chdir('C:/Users/lula6/') # Change directory\n",
    "os.getcwd()"
   ]
  },
  {
   "cell_type": "code",
   "execution_count": 6,
   "id": "922c60f2-8ff2-4772-afef-101bf907fe28",
   "metadata": {},
   "outputs": [
    {
     "data": {
      "text/plain": [
       "['.anaconda',\n",
       " '.conda',\n",
       " '.condarc',\n",
       " '.continuum',\n",
       " '.cufflinks',\n",
       " '.gitconfig',\n",
       " '.ipython',\n",
       " '.jupyter',\n",
       " '.matplotlib',\n",
       " '.ssh',\n",
       " 'anaconda3',\n",
       " 'anaconda_projects',\n",
       " 'AppData',\n",
       " 'Application Data',\n",
       " 'Contacts',\n",
       " 'Cookies',\n",
       " 'Documents',\n",
       " 'Downloads',\n",
       " 'ds_code_base',\n",
       " 'Favorites',\n",
       " 'Links',\n",
       " 'Local Settings',\n",
       " 'ml_code_base',\n",
       " 'Music',\n",
       " 'My Documents',\n",
       " 'NetHood',\n",
       " 'NTUSER.DAT',\n",
       " 'ntuser.dat.LOG1',\n",
       " 'ntuser.dat.LOG2',\n",
       " 'NTUSER.DAT{d0a6de57-5d07-11f0-9318-fb7575097cdd}.TM.blf',\n",
       " 'NTUSER.DAT{d0a6de57-5d07-11f0-9318-fb7575097cdd}.TMContainer00000000000000000001.regtrans-ms',\n",
       " 'NTUSER.DAT{d0a6de57-5d07-11f0-9318-fb7575097cdd}.TMContainer00000000000000000002.regtrans-ms',\n",
       " 'ntuser.ini',\n",
       " 'OneDrive',\n",
       " 'PrintHood',\n",
       " 'Recent',\n",
       " 'Saved Games',\n",
       " 'Searches',\n",
       " 'SendTo',\n",
       " 'Start Menu',\n",
       " 'Templates',\n",
       " 'Videos']"
      ]
     },
     "execution_count": 6,
     "metadata": {},
     "output_type": "execute_result"
    }
   ],
   "source": [
    "os.listdir() # List all the folders and files under Current wirking directory."
   ]
  },
  {
   "cell_type": "code",
   "execution_count": 12,
   "id": "dc051deb-9933-4251-8561-51fa3a2ab76e",
   "metadata": {},
   "outputs": [
    {
     "data": {
      "text/plain": [
       "'C:\\\\Users\\\\lula6\\\\ml_code_base\\\\python_basic'"
      ]
     },
     "execution_count": 12,
     "metadata": {},
     "output_type": "execute_result"
    }
   ],
   "source": [
    "os.chdir('C:/Users/lula6/ml_code_base/python_basic/')\n",
    "os.getcwd()"
   ]
  },
  {
   "cell_type": "markdown",
   "id": "b74af9c2-c2d9-4c7c-87d8-e038bd37ab82",
   "metadata": {},
   "source": [
    "# To make, delete & modify directories"
   ]
  },
  {
   "cell_type": "code",
   "execution_count": 10,
   "id": "6154fb69-3116-4d84-93bd-c6eb2639abc0",
   "metadata": {},
   "outputs": [
    {
     "name": "stdout",
     "output_type": "stream",
     "text": [
      "C:\\Users\\lula6\\ml_code_base\\python_basic\n",
      "['.git', '.ipynb_checkpoints', 'os_module.ipynb', 'part_one.ipynb', 'README.md']\n",
      "['.git', '.ipynb_checkpoints', 'os_module.ipynb', 'part_one.ipynb', 'README.md', 'test']\n"
     ]
    }
   ],
   "source": [
    "print(os.getcwd())\n",
    "print(os.listdir())\n",
    "os.mkdir(\"test\") # Makes a new directory\n",
    "print(os.listdir())"
   ]
  },
  {
   "cell_type": "code",
   "execution_count": 13,
   "id": "e0cb01e0-7651-43bb-a279-c8f79e0b2228",
   "metadata": {},
   "outputs": [
    {
     "name": "stdout",
     "output_type": "stream",
     "text": [
      "C:\\Users\\lula6\\ml_code_base\\python_basic\n",
      "C:\\Users\\lula6\\ml_code_base\\python_basic\\test\n"
     ]
    },
    {
     "data": {
      "text/plain": [
       "['demoOne']"
      ]
     },
     "execution_count": 13,
     "metadata": {},
     "output_type": "execute_result"
    }
   ],
   "source": [
    "p = os.path.join(os.getcwd(), 'test')# creating a valid path by combining two paths.\n",
    "print(os.getcwd())\n",
    "os.chdir(p)\n",
    "print(os.getcwd())\n",
    "os.makedirs('demoOne/demoTwo/demoThree/') # Makes some new directories in deep level\n",
    "os.listdir()"
   ]
  },
  {
   "cell_type": "code",
   "execution_count": 15,
   "id": "d5532ad8-69c6-4036-8f2b-0e0a19593260",
   "metadata": {},
   "outputs": [
    {
     "name": "stdout",
     "output_type": "stream",
     "text": [
      "C:\\Users\\lula6\\ml_code_base\\python_basic\\test\n",
      "C:\\Users\\lula6\\ml_code_base\\python_basic\\test\\demoOne\\demoTwo\\demoThree\n"
     ]
    }
   ],
   "source": [
    "p = os.path.join('C:/Users/lula6/ml_code_base/python_basic/','test/demoOne/demoTwo/demoThree/')\n",
    "print(os.getcwd())\n",
    "os.chdir(p)\n",
    "print(os.getcwd())"
   ]
  },
  {
   "cell_type": "code",
   "execution_count": 18,
   "id": "17341bd8-4835-4db5-9904-4422f65ebec8",
   "metadata": {},
   "outputs": [
    {
     "name": "stdout",
     "output_type": "stream",
     "text": [
      "['.git', '.ipynb_checkpoints', 'os_module.ipynb', 'part_one.ipynb', 'README.md', 'test']\n",
      "['.git', '.ipynb_checkpoints', 'os_module.ipynb', 'part_one.ipynb', 'README.md']\n"
     ]
    }
   ],
   "source": [
    "os.chdir('C:/Users/lula6/ml_code_base/python_basic/')\n",
    "print(os.listdir())\n",
    "\n",
    "# os.rmdir(\"test\") # we can remove one by one or, \n",
    "os.removedirs('test/demoOne/demoTwo/demoThree/') # We can remove all subdirs at once\n",
    "print(os.listdir())"
   ]
  },
  {
   "cell_type": "code",
   "execution_count": null,
   "id": "2c67f9d9-b636-4198-8d8e-26c3d07868d5",
   "metadata": {},
   "outputs": [],
   "source": [
    "os.rename('os_module.ipynb', 'python_os_module.ipynb') #os.rename('current name', 'the name we want to give')"
   ]
  },
  {
   "cell_type": "markdown",
   "id": "ffca85b1-dae7-4229-88ed-6017c63daf88",
   "metadata": {},
   "source": [
    "# File or folder info"
   ]
  },
  {
   "cell_type": "code",
   "execution_count": 3,
   "id": "694063ee-6cd6-4874-9a51-4f6e2f297ee8",
   "metadata": {},
   "outputs": [
    {
     "name": "stdout",
     "output_type": "stream",
     "text": [
      "['.git', '.ipynb_checkpoints', 'part_one.ipynb', 'python_os_module.ipynb', 'README.md']\n"
     ]
    }
   ],
   "source": [
    "print(os.listdir())"
   ]
  },
  {
   "cell_type": "code",
   "execution_count": 4,
   "id": "1309dafe-05f0-4acb-a537-58850e57042c",
   "metadata": {},
   "outputs": [
    {
     "name": "stdout",
     "output_type": "stream",
     "text": [
      "os.stat_result(st_mode=33206, st_ino=12947848928736097, st_dev=1020665739849366139, st_nlink=1, st_uid=0, st_gid=0, st_size=12222, st_atime=1755349790, st_mtime=1755349790, st_ctime=1755346823)\n"
     ]
    }
   ],
   "source": [
    "print(os.stat('python_os_module.ipynb')) # all the ifo of a file"
   ]
  },
  {
   "cell_type": "code",
   "execution_count": 11,
   "id": "56a3ec8b-0f40-49d9-a9c0-7e733bfacde9",
   "metadata": {},
   "outputs": [
    {
     "name": "stdout",
     "output_type": "stream",
     "text": [
      "os.stat_result(st_mode=16895, st_ino=30117822508098289, st_dev=1020665739849366139, st_nlink=1, st_uid=0, st_gid=0, st_size=0, st_atime=1755350500, st_mtime=1755350500, st_ctime=1755350500)\n"
     ]
    },
    {
     "data": {
      "text/plain": [
       "datetime.datetime(2025, 8, 16, 19, 21, 40, 97809)"
      ]
     },
     "execution_count": 11,
     "metadata": {},
     "output_type": "execute_result"
    }
   ],
   "source": [
    "from datetime import datetime\n",
    "os.mkdir('testTwo')\n",
    "print(os.stat('testTwo'))\n",
    "creation_time = os.stat('testTwo').st_mtime\n",
    "datetime.fromtimestamp(creation_time) # Readble time"
   ]
  },
  {
   "cell_type": "code",
   "execution_count": 17,
   "id": "efdfafbb-49df-4f38-90d5-80ef6bd6c511",
   "metadata": {},
   "outputs": [
    {
     "name": "stdout",
     "output_type": "stream",
     "text": [
      "False\n",
      "True\n",
      "True\n"
     ]
    },
    {
     "data": {
      "text/plain": [
       "['.git',\n",
       " '.ipynb_checkpoints',\n",
       " 'part_one.ipynb',\n",
       " 'python_os_module.ipynb',\n",
       " 'README.md',\n",
       " 'testTwo']"
      ]
     },
     "execution_count": 17,
     "metadata": {},
     "output_type": "execute_result"
    }
   ],
   "source": [
    "print(os.path.exists('C:/Users/lula6/ml_code_base/python_basic/os_module.ipynb')) #To check this file or folder exist or not\n",
    "print(os.path.exists('C:/Users/lula6/ml_code_base/python_basic/python_os_module.ipynb'))\n",
    "print(os.path.exists('C:/Users/lula6/ml_code_base/python_basic/testTwo/'))\n",
    "os.listdir()"
   ]
  },
  {
   "cell_type": "code",
   "execution_count": 20,
   "id": "0d0363c8-c372-45e3-a1d8-8d3424bbf551",
   "metadata": {},
   "outputs": [
    {
     "name": "stdout",
     "output_type": "stream",
     "text": [
      "False\n",
      "True\n",
      "False\n"
     ]
    },
    {
     "data": {
      "text/plain": [
       "['.git',\n",
       " '.ipynb_checkpoints',\n",
       " 'part_one.ipynb',\n",
       " 'python_os_module.ipynb',\n",
       " 'README.md']"
      ]
     },
     "execution_count": 20,
     "metadata": {},
     "output_type": "execute_result"
    }
   ],
   "source": [
    "print(os.path.exists('C:/Users/lula6/ml_code_base/python_basic/os_module.ipynb')) #To check this file or folder exist or not\n",
    "print(os.path.exists('C:/Users/lula6/ml_code_base/python_basic/python_os_module.ipynb'))\n",
    "if(os.path.exists('C:/Users/lula6/ml_code_base/python_basic/testTwo/')):\n",
    "    os.rmdir('testTwo')\n",
    "print(os.path.exists('C:/Users/lula6/ml_code_base/python_basic/testTwo/'))\n",
    "os.listdir()"
   ]
  }
 ],
 "metadata": {
  "kernelspec": {
   "display_name": "Python [conda env:base] *",
   "language": "python",
   "name": "conda-base-py"
  },
  "language_info": {
   "codemirror_mode": {
    "name": "ipython",
    "version": 3
   },
   "file_extension": ".py",
   "mimetype": "text/x-python",
   "name": "python",
   "nbconvert_exporter": "python",
   "pygments_lexer": "ipython3",
   "version": "3.13.5"
  }
 },
 "nbformat": 4,
 "nbformat_minor": 5
}
