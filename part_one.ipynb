{
 "cells": [
  {
   "cell_type": "markdown",
   "id": "6e9a39ec-73e4-4a0e-865d-6de1f6b671ff",
   "metadata": {},
   "source": [
    "# Hello World"
   ]
  },
  {
   "cell_type": "code",
   "execution_count": 1,
   "id": "2fe08a7b-68e3-4699-9213-5e7150b4088d",
   "metadata": {},
   "outputs": [
    {
     "name": "stdout",
     "output_type": "stream",
     "text": [
      "Hello World\n"
     ]
    }
   ],
   "source": [
    "# This is how we write comments in python\n",
    "print(\"Hello World\") #'print()' is a function that gives output of object inside it's parenthesis."
   ]
  },
  {
   "cell_type": "markdown",
   "id": "b5fef656-3e0b-45cd-aff6-54b37944831c",
   "metadata": {},
   "source": [
    "# Data Types\n",
    "\n",
    "### There are four main data types in python"
   ]
  },
  {
   "cell_type": "markdown",
   "id": "00d5c1dc-f4f8-4452-aaab-f005e4e52188",
   "metadata": {},
   "source": [
    "#### 1. String"
   ]
  },
  {
   "cell_type": "code",
   "execution_count": 15,
   "id": "f2ce6d72-b341-4e58-8cc2-95ee8e1fbcba",
   "metadata": {},
   "outputs": [
    {
     "name": "stdout",
     "output_type": "stream",
     "text": [
      "My name is Momin Hosan Emon\n"
     ]
    }
   ],
   "source": [
    "name = \"momin hosan emon\" #This is a variable with string data.\n",
    "print(f\"My name is {name.title()}\")"
   ]
  },
  {
   "cell_type": "markdown",
   "id": "b66d50a6-2857-4e19-9e45-641fa7c72365",
   "metadata": {},
   "source": [
    "#### 2. Boolean"
   ]
  },
  {
   "cell_type": "code",
   "execution_count": 8,
   "id": "5b7ad8c5-2298-4f72-886a-20785ee8b9a6",
   "metadata": {},
   "outputs": [
    {
     "name": "stdout",
     "output_type": "stream",
     "text": [
      "Activated\n"
     ]
    }
   ],
   "source": [
    "active = False # This is a variable with boolean data.\n",
    "if active:\n",
    "    print(\"Already active\")\n",
    "else:\n",
    "    active = True\n",
    "    print(\"Activated\")"
   ]
  },
  {
   "cell_type": "markdown",
   "id": "bf6f3453-95d8-4cd8-bec7-55e3ec8f7bd2",
   "metadata": {},
   "source": [
    "#### 3. Integer"
   ]
  },
  {
   "cell_type": "code",
   "execution_count": 10,
   "id": "1e3bde2f-f447-4506-a9d8-8d900765506b",
   "metadata": {},
   "outputs": [
    {
     "name": "stdout",
     "output_type": "stream",
     "text": [
      "24564\n"
     ]
    }
   ],
   "source": [
    "print(24564) # All whole positive & negative numbers are integer"
   ]
  },
  {
   "cell_type": "markdown",
   "id": "1ad40549-0cf9-4995-8e1a-b10e7dc8ae1f",
   "metadata": {},
   "source": [
    "#### 4. Float"
   ]
  },
  {
   "cell_type": "code",
   "execution_count": 11,
   "id": "31cad88e-aeeb-463f-afff-02980e129409",
   "metadata": {},
   "outputs": [
    {
     "name": "stdout",
     "output_type": "stream",
     "text": [
      "665.546548765469\n"
     ]
    }
   ],
   "source": [
    "print(665.546548765468986) # All fraction numbers are float"
   ]
  },
  {
   "cell_type": "code",
   "execution_count": 21,
   "id": "73fedd32-c836-485a-9d07-e96543d69812",
   "metadata": {},
   "outputs": [
    {
     "name": "stdout",
     "output_type": "stream",
     "text": [
      "<class 'bool'>\n"
     ]
    }
   ],
   "source": [
    "print(type(active)) # Shows the data type of a variable."
   ]
  },
  {
   "cell_type": "markdown",
   "id": "56ac6d95-496e-4e98-8993-1693dc4576cc",
   "metadata": {},
   "source": [
    "# String Methods\n"
   ]
  },
  {
   "cell_type": "code",
   "execution_count": 16,
   "id": "32d056df-280b-4ecd-861e-953b75ffb6bf",
   "metadata": {},
   "outputs": [
    {
     "name": "stdout",
     "output_type": "stream",
     "text": [
      "MOMIN HOSAN EMON\n"
     ]
    }
   ],
   "source": [
    "print(name.upper()) # Shows all the letter in upper case."
   ]
  },
  {
   "cell_type": "code",
   "execution_count": 17,
   "id": "06003273-b03c-4469-ae3f-e4528124ac0b",
   "metadata": {},
   "outputs": [
    {
     "name": "stdout",
     "output_type": "stream",
     "text": [
      "momin hosan emon\n"
     ]
    }
   ],
   "source": [
    "print(name.lower()) # Shows all the letter in lower case."
   ]
  },
  {
   "cell_type": "code",
   "execution_count": 18,
   "id": "92bc6d70-227f-4be9-88a7-4d19bd7372a5",
   "metadata": {},
   "outputs": [
    {
     "name": "stdout",
     "output_type": "stream",
     "text": [
      "Momin Hosan Emon\n"
     ]
    }
   ],
   "source": [
    "print(name.title()) # Shows first letter of a word in upper case."
   ]
  },
  {
   "cell_type": "code",
   "execution_count": 23,
   "id": "93ba2292-8552-4b2e-9318-4a44e8d736fb",
   "metadata": {},
   "outputs": [
    {
     "name": "stdout",
     "output_type": "stream",
     "text": [
      "3\n"
     ]
    }
   ],
   "source": [
    "print(name.count('m')) # Counts how many 'm' are in this string."
   ]
  },
  {
   "cell_type": "code",
   "execution_count": 29,
   "id": "aefaf9fb-3d16-4e8a-a77d-037c73d5c14d",
   "metadata": {},
   "outputs": [
    {
     "name": "stdout",
     "output_type": "stream",
     "text": [
      "momin hosan imon\n"
     ]
    },
    {
     "data": {
      "text/plain": [
       "'momin hosan emon'"
      ]
     },
     "execution_count": 29,
     "metadata": {},
     "output_type": "execute_result"
    }
   ],
   "source": [
    "print(name.replace('e','i')) #Every 'e' letters will get replaced by the letter 'i' but it doesn't change the original variable.\n",
    "name # The variable is not changed"
   ]
  },
  {
   "cell_type": "markdown",
   "id": "b7e7c073-b8e7-43a8-afa5-55e9710dd535",
   "metadata": {},
   "source": [
    "# Variable"
   ]
  },
  {
   "cell_type": "code",
   "execution_count": 30,
   "id": "b1c943b9-168d-4bc7-bf77-d0871cb7bd58",
   "metadata": {},
   "outputs": [],
   "source": [
    "varName =\"Hello world\" #This is a simple variable"
   ]
  },
  {
   "cell_type": "markdown",
   "id": "17e91679-9051-4a88-b4a7-5bb7b3a2a70b",
   "metadata": {},
   "source": [
    "# String Concatenation"
   ]
  },
  {
   "cell_type": "code",
   "execution_count": 34,
   "id": "1474dfd4-3685-4947-9184-6ffb48041d02",
   "metadata": {},
   "outputs": [
    {
     "name": "stdout",
     "output_type": "stream",
     "text": [
      "Hello world My name is Momin Hosan Emon\n"
     ]
    }
   ],
   "source": [
    "concatenateString = varName+\" My name is \"+name.title()\n",
    "print(concatenateString)"
   ]
  },
  {
   "cell_type": "markdown",
   "id": "6e3f1ca7-c6b3-473a-87a9-870ae0592da8",
   "metadata": {},
   "source": [
    "# f String"
   ]
  },
  {
   "cell_type": "code",
   "execution_count": 35,
   "id": "e5c6f0a9-45ab-46b9-b22e-4934fbfed642",
   "metadata": {},
   "outputs": [
    {
     "name": "stdout",
     "output_type": "stream",
     "text": [
      "Hello world My name is Momin Hosan Emon\n"
     ]
    }
   ],
   "source": [
    "print(f\"{varName} My name is {name.title()}\") # f string used to make inline string concatenations."
   ]
  },
  {
   "cell_type": "markdown",
   "id": "a6c358d1-0f23-4ef7-af9e-80ad76a9ca91",
   "metadata": {},
   "source": [
    "# List"
   ]
  },
  {
   "cell_type": "code",
   "execution_count": 1,
   "id": "430bf115-85f9-4315-a9e8-f5a03dd42c25",
   "metadata": {},
   "outputs": [
    {
     "data": {
      "text/plain": [
       "['itemOne', 'itemTwo', 3, 'itemFour']"
      ]
     },
     "execution_count": 1,
     "metadata": {},
     "output_type": "execute_result"
    }
   ],
   "source": [
    "listName = ['itemOne', 'itemTwo', 3, 'itemFour']\n",
    "listName"
   ]
  },
  {
   "cell_type": "markdown",
   "id": "ae821e03-ff12-4a5b-8f4f-610434393376",
   "metadata": {},
   "source": [
    "### List Methods"
   ]
  },
  {
   "cell_type": "code",
   "execution_count": 83,
   "id": "3f2fc3f8-0544-44ff-add5-87bdf81bd61e",
   "metadata": {},
   "outputs": [
    {
     "data": {
      "text/plain": [
       "'itemThree'"
      ]
     },
     "execution_count": 83,
     "metadata": {},
     "output_type": "execute_result"
    }
   ],
   "source": [
    "listName[2] # To access a list element by their index."
   ]
  },
  {
   "cell_type": "code",
   "execution_count": 84,
   "id": "96ed651a-b0c3-4446-91a2-654bfb09417e",
   "metadata": {},
   "outputs": [
    {
     "data": {
      "text/plain": [
       "'itemFive'"
      ]
     },
     "execution_count": 84,
     "metadata": {},
     "output_type": "execute_result"
    }
   ],
   "source": [
    "listName[-1] # To access list element of the list."
   ]
  },
  {
   "cell_type": "markdown",
   "id": "6e9e8534-8af0-49e1-a331-19882cf37759",
   "metadata": {},
   "source": [
    "##### Slicing:"
   ]
  },
  {
   "cell_type": "code",
   "execution_count": 51,
   "id": "75b15279-877d-4aef-9aa6-1f478321d8d5",
   "metadata": {},
   "outputs": [
    {
     "name": "stdout",
     "output_type": "stream",
     "text": [
      "['itemOne', 'itemTwo', 3]\n",
      "['itemTwo', 3, 'itemFour']\n",
      "['itemOne', 'itemTwo', 3]\n"
     ]
    },
    {
     "data": {
      "text/plain": [
       "['itemOne', 'itemTwo', 3]"
      ]
     },
     "execution_count": 51,
     "metadata": {},
     "output_type": "execute_result"
    }
   ],
   "source": [
    "print(listName[0:3])\n",
    "print(listName[1:]) # From index one to last\n",
    "print(listName[:3]) # From first to index 3\n",
    "listName[0:-1] #From 0 to index number 2"
   ]
  },
  {
   "cell_type": "markdown",
   "id": "74d42d78-717c-48fe-b960-ce89dbd2ae56",
   "metadata": {},
   "source": [
    "##### Adding elements to a list:"
   ]
  },
  {
   "cell_type": "code",
   "execution_count": 72,
   "id": "d4d5d6d9-fd25-46b0-9d2b-1f2e7f6148c2",
   "metadata": {},
   "outputs": [
    {
     "data": {
      "text/plain": [
       "['itemOne', 'itemTwo', 3, 'itemFour', 'itemFive']"
      ]
     },
     "execution_count": 72,
     "metadata": {},
     "output_type": "execute_result"
    }
   ],
   "source": [
    "listName.append('itemFive')\n",
    "listName"
   ]
  },
  {
   "cell_type": "code",
   "execution_count": 73,
   "id": "65dd1b31-236a-404d-896f-6e0e997585cf",
   "metadata": {},
   "outputs": [
    {
     "data": {
      "text/plain": [
       "['itemOne', 'itemTwo', 'itemThree', 3, 'itemFour', 'itemFive']"
      ]
     },
     "execution_count": 73,
     "metadata": {},
     "output_type": "execute_result"
    }
   ],
   "source": [
    "listName.insert(2, 'itemThree')\n",
    "listName"
   ]
  },
  {
   "cell_type": "code",
   "execution_count": 82,
   "id": "6f021617-7b47-477a-a726-5a7f9a5993e5",
   "metadata": {},
   "outputs": [
    {
     "data": {
      "text/plain": [
       "[1, 'itemTwo', 'itemThree', 'itemFour', 'itemFive']"
      ]
     },
     "execution_count": 82,
     "metadata": {},
     "output_type": "execute_result"
    }
   ],
   "source": [
    "listName[0] = 1\n",
    "listName"
   ]
  },
  {
   "cell_type": "markdown",
   "id": "6c6b252c-4bfc-4b98-a938-e5b17a8ced1f",
   "metadata": {},
   "source": [
    "##### Nested List:"
   ]
  },
  {
   "cell_type": "code",
   "execution_count": 81,
   "id": "0c51c29c-bb81-49a1-8dfc-a262871d3497",
   "metadata": {},
   "outputs": [
    {
     "name": "stdout",
     "output_type": "stream",
     "text": [
      "[[1, 'itemTwo', 'itemThree', 'itemFour', 'itemFive'], ['itemTwo', 'itemThree', 'itemFour', 'itemFive']]\n"
     ]
    }
   ],
   "source": [
    "nestedList = [listName, listName[1:]] # This is how we can add list and keep in a nested list variable, nested list are kind a 2 dimantional array of C/C++.\n",
    "print(nestedList)"
   ]
  },
  {
   "cell_type": "markdown",
   "id": "88a2854f-7ac6-4bc5-bc9f-a51775abf889",
   "metadata": {},
   "source": [
    "##### Deleting elements from a list:"
   ]
  },
  {
   "cell_type": "code",
   "execution_count": 85,
   "id": "c765ab3c-c5bc-4d05-9e50-3724a4052275",
   "metadata": {},
   "outputs": [
    {
     "name": "stdout",
     "output_type": "stream",
     "text": [
      "The following list element will get deleted: itemFour\n"
     ]
    },
    {
     "data": {
      "text/plain": [
       "[1, 'itemTwo', 'itemThree', 'itemFive']"
      ]
     },
     "execution_count": 85,
     "metadata": {},
     "output_type": "execute_result"
    }
   ],
   "source": [
    "print(f\"The following list element will get deleted: {listName.pop(3)}\") # Or if we do not give any index 'object.pop()' then it will delete the last item from the list.\n",
    "listName"
   ]
  },
  {
   "cell_type": "code",
   "execution_count": 8,
   "id": "5664369c-7858-40fc-989e-7a2308d6c0f8",
   "metadata": {},
   "outputs": [
    {
     "name": "stdout",
     "output_type": "stream",
     "text": [
      "['itemOne', 'itemTwo', 'USA', 3, 'itemFour', 'Iran', 'Israil']\n",
      "['itemOne', 'itemTwo', 'USA', 3, 'itemFour', 'Iran']\n",
      "['itemOne', 'itemTwo', 3, 'itemFour', 'Iran']\n"
     ]
    }
   ],
   "source": [
    "country = listName.copy() #This is how we can copy a list.\n",
    "country.append(\"Iran\")\n",
    "country.append(\"Israil\")\n",
    "country.insert(2, \"USA\")\n",
    "print(country)\n",
    "country.remove(\"Israil\") #This is how we can delete an item by it's value.\n",
    "print(country)\n",
    "del country[2] # Same as pop() method, but it doesn't return deleted value.\n",
    "print(country)"
   ]
  },
  {
   "cell_type": "markdown",
   "id": "09ee5211-7b4f-4aed-8f19-59b22e23a6a1",
   "metadata": {},
   "source": [
    "##### List Sorting:"
   ]
  },
  {
   "cell_type": "code",
   "execution_count": 13,
   "id": "1c911814-0f94-42e9-853e-6d05ab53014b",
   "metadata": {},
   "outputs": [
    {
     "name": "stdout",
     "output_type": "stream",
     "text": [
      "[0, 1, 2, 3, 4, 5, 6, 7, 8, 9]\n",
      "[9, 8, 7, 6, 5, 4, 3, 2, 1, 0]\n",
      "['A', 'B', 'C', 'D', 'E', 'F', 'G', 'H', 'I', 'J', 'K']\n",
      "['K', 'J', 'I', 'H', 'G', 'F', 'E', 'D', 'C', 'B', 'A']\n"
     ]
    }
   ],
   "source": [
    "nums = [5,7,3,9,1,4,0,6,8,2]\n",
    "\n",
    "nums.sort()\n",
    "print(nums)\n",
    "\n",
    "nums.sort(reverse = True) #For sorting in reverse order\n",
    "print(nums)\n",
    "\n",
    "alpha = ['H','E','A','C','F','G','J','K','B','D','I']\n",
    "\n",
    "alpha.sort()\n",
    "print(alpha)\n",
    "\n",
    "alpha.sort(reverse = True) #For sorting in reverse order\n",
    "print(alpha)"
   ]
  },
  {
   "cell_type": "markdown",
   "id": "1a060e96-c947-4c90-982a-4a8da5cbb97e",
   "metadata": {},
   "source": [
    "##### To update an element from list:"
   ]
  },
  {
   "cell_type": "code",
   "execution_count": 21,
   "id": "3f1be52a-2f09-4a4b-aeb1-ae8aea2b4f95",
   "metadata": {},
   "outputs": [
    {
     "name": "stdout",
     "output_type": "stream",
     "text": [
      "['Emon', 'Karim', 'Rafiq']\n"
     ]
    }
   ],
   "source": [
    "person = ['Imon', 'Karim', 'Jubair']\n",
    "\n",
    "person[0] = 'Emon'\n",
    "person[2] = 'Rafiq'\n",
    "print(person)"
   ]
  },
  {
   "cell_type": "code",
   "execution_count": null,
   "id": "d758f815-dced-467b-b48c-f63665a03fe8",
   "metadata": {},
   "outputs": [],
   "source": []
  }
 ],
 "metadata": {
  "kernelspec": {
   "display_name": "Python [conda env:base] *",
   "language": "python",
   "name": "conda-base-py"
  },
  "language_info": {
   "codemirror_mode": {
    "name": "ipython",
    "version": 3
   },
   "file_extension": ".py",
   "mimetype": "text/x-python",
   "name": "python",
   "nbconvert_exporter": "python",
   "pygments_lexer": "ipython3",
   "version": "3.12.7"
  }
 },
 "nbformat": 4,
 "nbformat_minor": 5
}
